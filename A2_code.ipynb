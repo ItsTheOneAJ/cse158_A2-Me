{
 "cells": [
  {
   "cell_type": "code",
   "execution_count": 9,
   "metadata": {},
   "outputs": [],
   "source": [
    "import gzip"
   ]
  },
  {
   "cell_type": "code",
   "execution_count": 10,
   "metadata": {},
   "outputs": [],
   "source": [
    "dataset = []\n",
    "\n",
    "f = gzip.open(\"steam_games.json.gz\")\n",
    "for l in f:\n",
    "    d = eval(l)\n",
    "    dataset.append(d)\n",
    "        \n",
    "f.close()"
   ]
  },
  {
   "cell_type": "code",
   "execution_count": 11,
   "metadata": {},
   "outputs": [
    {
     "data": {
      "text/plain": [
       "32135"
      ]
     },
     "execution_count": 11,
     "metadata": {},
     "output_type": "execute_result"
    }
   ],
   "source": [
    "len(dataset)"
   ]
  },
  {
   "cell_type": "code",
   "execution_count": 14,
   "metadata": {},
   "outputs": [
    {
     "data": {
      "text/plain": [
       "{'publisher': 'CINEMAX, s.r.o.',\n",
       " 'genres': ['Casual', 'Indie'],\n",
       " 'app_name': 'Gumboy - Crazy Adventures™',\n",
       " 'sentiment': 'Mixed',\n",
       " 'title': 'Gumboy - Crazy Adventures™',\n",
       " 'url': 'http://store.steampowered.com/app/2520/Gumboy__Crazy_Adventures/',\n",
       " 'release_date': '2006-12-19',\n",
       " 'tags': ['Casual', 'Indie', 'Singleplayer'],\n",
       " 'reviews_url': 'http://steamcommunity.com/app/2520/reviews/?browsefilter=mostrecent&p=1',\n",
       " 'specs': ['Single-player'],\n",
       " 'price': 4.99,\n",
       " 'metascore': 69,\n",
       " 'early_access': False,\n",
       " 'id': '2520',\n",
       " 'developer': 'CINEMAX, s.r.o.'}"
      ]
     },
     "execution_count": 14,
     "metadata": {},
     "output_type": "execute_result"
    }
   ],
   "source": [
    "#first game\n",
    "dataset[61]"
   ]
  },
  {
   "cell_type": "code",
   "execution_count": 4,
   "metadata": {},
   "outputs": [
    {
     "name": "stdout",
     "output_type": "stream",
     "text": [
      "Keys in the first record:\n",
      "dict_keys(['publisher', 'genres', 'app_name', 'title', 'url', 'release_date', 'tags', 'discount_price', 'reviews_url', 'specs', 'price', 'early_access', 'id', 'developer'])\n"
     ]
    }
   ],
   "source": [
    "# Print all keys in the first record\n",
    "print(\"Keys in the first record:\")\n",
    "print(dataset[0].keys())"
   ]
  },
  {
   "cell_type": "code",
   "execution_count": 15,
   "metadata": {},
   "outputs": [
    {
     "name": "stdout",
     "output_type": "stream",
     "text": [
      "Unique sentiment values:\n",
      "{'Overwhelmingly Negative', '9 user reviews', 'Mostly Positive', 'Very Negative', '6 user reviews', 'Mixed', '7 user reviews', 'Negative', 'Mostly Negative', 'Positive', 'Very Positive', '5 user reviews', 'Overwhelmingly Positive', '4 user reviews', '2 user reviews', '8 user reviews', '1 user reviews', '3 user reviews'}\n"
     ]
    }
   ],
   "source": [
    "sentiments = [game['sentiment'] for game in dataset if 'sentiment' in game]\n",
    "unique_sentiments = set(sentiments)\n",
    "\n",
    "print(\"Unique sentiment values:\")\n",
    "print(unique_sentiments)"
   ]
  },
  {
   "cell_type": "code",
   "execution_count": null,
   "metadata": {},
   "outputs": [],
   "source": []
  }
 ],
 "metadata": {
  "kernelspec": {
   "display_name": "Python 3",
   "language": "python",
   "name": "python3"
  },
  "language_info": {
   "codemirror_mode": {
    "name": "ipython",
    "version": 3
   },
   "file_extension": ".py",
   "mimetype": "text/x-python",
   "name": "python",
   "nbconvert_exporter": "python",
   "pygments_lexer": "ipython3",
   "version": "3.9.6"
  }
 },
 "nbformat": 4,
 "nbformat_minor": 2
}
