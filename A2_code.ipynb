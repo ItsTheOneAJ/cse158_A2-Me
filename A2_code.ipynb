{
 "cells": [
  {
   "cell_type": "code",
   "execution_count": 16,
   "metadata": {},
   "outputs": [],
   "source": [
    "import gzip"
   ]
  },
  {
   "cell_type": "code",
   "execution_count": 17,
   "metadata": {},
   "outputs": [],
   "source": [
    "dataset = []\n",
    "\n",
    "f = gzip.open(\"steam_games.json.gz\")\n",
    "for l in f:\n",
    "    d = eval(l)\n",
    "    dataset.append(d)\n",
    "        \n",
    "f.close()"
   ]
  },
  {
   "cell_type": "code",
   "execution_count": 18,
   "metadata": {},
   "outputs": [
    {
     "data": {
      "text/plain": [
       "{'publisher': 'Kotoshiro',\n",
       " 'genres': ['Action', 'Casual', 'Indie', 'Simulation', 'Strategy'],\n",
       " 'app_name': 'Lost Summoner Kitty',\n",
       " 'title': 'Lost Summoner Kitty',\n",
       " 'url': 'http://store.steampowered.com/app/761140/Lost_Summoner_Kitty/',\n",
       " 'release_date': '2018-01-04',\n",
       " 'tags': ['Strategy', 'Action', 'Indie', 'Casual', 'Simulation'],\n",
       " 'discount_price': 4.49,\n",
       " 'reviews_url': 'http://steamcommunity.com/app/761140/reviews/?browsefilter=mostrecent&p=1',\n",
       " 'specs': ['Single-player'],\n",
       " 'price': 4.99,\n",
       " 'early_access': False,\n",
       " 'id': '761140',\n",
       " 'developer': 'Kotoshiro'}"
      ]
     },
     "execution_count": 18,
     "metadata": {},
     "output_type": "execute_result"
    }
   ],
   "source": [
    "#first game\n",
    "dataset[0]"
   ]
  },
  {
   "cell_type": "code",
   "execution_count": 19,
   "metadata": {},
   "outputs": [
    {
     "name": "stdout",
     "output_type": "stream",
     "text": [
      "Keys in the first record:\n",
      "dict_keys(['publisher', 'genres', 'app_name', 'title', 'url', 'release_date', 'tags', 'discount_price', 'reviews_url', 'specs', 'price', 'early_access', 'id', 'developer'])\n"
     ]
    }
   ],
   "source": [
    "# Print all keys in the first record\n",
    "print(\"Keys in the first record:\")\n",
    "print(dataset[0].keys())\n"
   ]
  },
  {
   "cell_type": "code",
   "execution_count": null,
   "metadata": {},
   "outputs": [],
   "source": []
  }
 ],
 "metadata": {
  "kernelspec": {
   "display_name": "Python 3",
   "language": "python",
   "name": "python3"
  },
  "language_info": {
   "codemirror_mode": {
    "name": "ipython",
    "version": 3
   },
   "file_extension": ".py",
   "mimetype": "text/x-python",
   "name": "python",
   "nbconvert_exporter": "python",
   "pygments_lexer": "ipython3",
   "version": "3.9.6"
  }
 },
 "nbformat": 4,
 "nbformat_minor": 2
}
